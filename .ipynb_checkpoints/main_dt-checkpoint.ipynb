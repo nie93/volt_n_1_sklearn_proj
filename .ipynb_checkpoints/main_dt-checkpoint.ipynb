{
 "cells": [
  {
   "cell_type": "code",
   "execution_count": 42,
   "metadata": {},
   "outputs": [],
   "source": [
    "import csv\n",
    "import numpy as np\n",
    "import sklearn as sk\n",
    "from sklearn.neural_network import MLPClassifier\n",
    "from sklearn.svm import SVC\n",
    "from sklearn import tree\n",
    "import os\n",
    "import sys\n",
    "import graphviz\n",
    "\n",
    "sys.path.append('C:\\\\Program Files (x86)\\\\Graphviz2.38\\\\bin')\n",
    "os.environ['PATH'] += ';' + 'C:\\\\Program Files (x86)\\\\Graphviz2.38\\\\bin'\n",
    "\n",
    "X = []\n",
    "y = []\n",
    "\n",
    "with open('snapshots_Xy_180709_124937.csv', 'rb') as f:\n",
    "    rdr = csv.reader(f, delimiter=',')\n",
    "    next(rdr)\n",
    "    # dat = [r for r in rdr]\n",
    "    for row in rdr:\n",
    "        X.append([float(x) for x in row[2:-1]])\n",
    "        y.append(int(row[1]))\n",
    "    X = np.asarray(X)\n",
    "    y = np.asarray(y)"
   ]
  },
  {
   "cell_type": "code",
   "execution_count": 44,
   "metadata": {},
   "outputs": [
    {
     "name": "stdout",
     "output_type": "stream",
     "text": [
      "[False False False False False False False False False False False False\n",
      " False False False False False False False False False False False False\n",
      " False False False False False False False False False False False False\n",
      " False False False False False False False False False False False False\n",
      " False False False False False False False False False False False False\n",
      " False False False False False False False False False  True  True  True\n",
      "  True  True  True  True  True  True  True  True  True  True  True  True\n",
      " False  True  True  True  True  True  True  True  True  True  True  True\n",
      "  True  True  True  True  True  True  True  True  True  True  True  True\n",
      "  True  True  True  True  True  True  True  True  True  True  True  True\n",
      "  True  True  True  True  True  True  True  True  True  True  True  True\n",
      "  True  True  True  True  True False  True  True  True  True  True  True\n",
      "  True  True  True  True  True  True  True  True  True  True  True  True\n",
      "  True  True  True  True  True  True  True  True  True  True  True  True\n",
      "  True  True  True  True  True False  True  True  True  True  True False\n",
      "  True  True  True  True  True False False  True  True  True  True False\n",
      "  True  True  True False  True False False  True  True False  True  True\n",
      "  True  True  True  True  True False  True  True  True  True  True  True\n",
      "  True  True  True  True  True  True  True  True  True  True  True  True\n",
      "  True  True  True  True  True  True  True  True  True  True  True  True\n",
      "  True  True  True  True  True  True  True  True  True  True  True  True\n",
      "  True  True  True  True  True  True  True  True  True  True  True  True\n",
      "  True  True  True  True  True  True  True  True  True  True  True  True\n",
      "  True  True  True  True  True  True  True  True  True  True  True  True\n",
      "  True  True  True  True  True  True  True  True  True  True  True  True\n",
      "  True  True  True  True  True  True  True  True  True  True  True  True\n",
      "  True  True  True  True  True  True  True  True  True  True  True  True\n",
      "  True  True  True  True  True  True  True  True  True  True  True  True]\n"
     ]
    }
   ],
   "source": [
    "from sklearn.feature_selection import VarianceThreshold\n",
    "\n",
    "sel = VarianceThreshold(threshold=(.8 * (1 - .8)))\n",
    "Xp = sel.fit_transform(X)\n",
    "X = Xp\n",
    "print(sel.get_support())"
   ]
  },
  {
   "cell_type": "code",
   "execution_count": 45,
   "metadata": {},
   "outputs": [],
   "source": [
    "num_of_tests = 10\n",
    "acc_rate = np.zeros(num_of_tests)\n",
    "for d in range(num_of_tests):\n",
    "    clf = tree.DecisionTreeClassifier(max_depth=d+2)\n",
    "    clf.fit(X, y)\n",
    "    \n",
    "    dot_data = tree.export_graphviz(clf, out_file=None, \n",
    "                                    class_names= ['INSECURE','SECURE'], \n",
    "                                    filled=True)  \n",
    "    graph = graphviz.Source(dot_data) \n",
    "    graph.render('test_dt_maxdepth_%d' %(d+2))\n",
    "\n",
    "    y_pred = clf.predict(X)\n",
    "    acc = [e == y_pred[i] for i, e in enumerate(y)]\n",
    "    acc_rate[d] = float(sum(acc)) / len(acc)"
   ]
  },
  {
   "cell_type": "code",
   "execution_count": 24,
   "metadata": {},
   "outputs": [
    {
     "name": "stdout",
     "output_type": "stream",
     "text": [
      "     Number of features:    255\n",
      "   Number of secure OCs:   4000\n",
      "      Number of samples:   4000\n",
      "      Training accuracy:      1.00000\n"
     ]
    }
   ],
   "source": [
    "print('     Number of features: %6d' %np.size(X,1))\n",
    "print('   Number of secure OCs: %6d' %sum(acc))\n",
    "print('      Number of samples: %6d' %len(acc))\n",
    "print('      Training accuracy: %12.5f' %acc_rate[d])"
   ]
  },
  {
   "cell_type": "code",
   "execution_count": 30,
   "metadata": {},
   "outputs": [
    {
     "data": {
      "text/plain": [
       "'tt.pdf'"
      ]
     },
     "execution_count": 30,
     "metadata": {},
     "output_type": "execute_result"
    }
   ],
   "source": []
  },
  {
   "cell_type": "code",
   "execution_count": 25,
   "metadata": {},
   "outputs": [
    {
     "name": "stdout",
     "output_type": "stream",
     "text": [
      "[0.98375 0.9895  0.994   0.9985  0.99975 0.99975 1.      1.      1.\n",
      " 1.     ]\n"
     ]
    }
   ],
   "source": [
    "np.set_printoptions(precision=12)\n",
    "print(acc_rate)"
   ]
  },
  {
   "cell_type": "code",
   "execution_count": 26,
   "metadata": {},
   "outputs": [
    {
     "name": "stdout",
     "output_type": "stream",
     "text": [
      "['', 'C:\\\\WINDOWS\\\\SYSTEM32\\\\python27.zip', 'c:\\\\python27\\\\DLLs', 'c:\\\\python27\\\\lib', 'c:\\\\python27\\\\lib\\\\plat-win', 'c:\\\\python27\\\\lib\\\\lib-tk', 'c:\\\\python27', 'c:\\\\python27\\\\lib\\\\site-packages', 'c:\\\\python27\\\\lib\\\\site-packages\\\\IPython\\\\extensions', 'C:\\\\Users\\\\nie\\\\.ipython']\n"
     ]
    }
   ],
   "source": [
    "import os\n",
    "import sys\n",
    "\n",
    "print(sys.path)"
   ]
  },
  {
   "cell_type": "code",
   "execution_count": 28,
   "metadata": {},
   "outputs": [],
   "source": []
  },
  {
   "cell_type": "code",
   "execution_count": null,
   "metadata": {},
   "outputs": [],
   "source": []
  }
 ],
 "metadata": {
  "kernelspec": {
   "display_name": "Python 2",
   "language": "python",
   "name": "python2"
  },
  "language_info": {
   "codemirror_mode": {
    "name": "ipython",
    "version": 2
   },
   "file_extension": ".py",
   "mimetype": "text/x-python",
   "name": "python",
   "nbconvert_exporter": "python",
   "pygments_lexer": "ipython2",
   "version": "2.7.15"
  }
 },
 "nbformat": 4,
 "nbformat_minor": 2
}
