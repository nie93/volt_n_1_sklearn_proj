{
 "cells": [
  {
   "cell_type": "code",
   "execution_count": 1,
   "metadata": {},
   "outputs": [],
   "source": [
    "%matplotlib inline\n",
    "\n",
    "import csv\n",
    "import numpy as np\n",
    "import sklearn as sk\n",
    "from sklearn.neural_network import MLPClassifier\n",
    "from sklearn.svm import SVC\n",
    "from sklearn import tree\n",
    "import os\n",
    "import sys\n",
    "import graphviz\n",
    "import matplotlib.pyplot as plt\n",
    "\n",
    "sys.path.append('C:\\\\Program Files (x86)\\\\Graphviz2.38\\\\bin')\n",
    "os.environ['PATH'] += ';' + 'C:\\\\Program Files (x86)\\\\Graphviz2.38\\\\bin'\n",
    "\n",
    "X = []\n",
    "y = []\n",
    "\n",
    "with open('snapshots_Xy_180709_124937.csv', 'rb') as f:\n",
    "    rdr = csv.reader(f, delimiter=',')\n",
    "    next(rdr)\n",
    "    # dat = [r for r in rdr]\n",
    "    for row in rdr:\n",
    "        X.append([float(x) for x in row[2:-1]])\n",
    "        y.append(int(row[1]))\n",
    "\n",
    "X = np.asarray(X)\n",
    "y = np.asarray(y)\n",
    "\n",
    "Xtrain = X[0:3000,:]\n",
    "Xtest = X[3000:,:]\n",
    "ytrain = y[0:3000]\n",
    "ytest = y[3000:]"
   ]
  },
  {
   "cell_type": "code",
   "execution_count": 2,
   "metadata": {},
   "outputs": [],
   "source": [
    "def get_accuracy(ytrue, ypred):\n",
    "    v = [e == ypred[i] for i, e in enumerate(ytrue)]\n",
    "    return float(sum(v)) / np.size(ypred,0)"
   ]
  },
  {
   "cell_type": "code",
   "execution_count": 3,
   "metadata": {},
   "outputs": [
    {
     "name": "stdout",
     "output_type": "stream",
     "text": [
      "[0.994]\n",
      "[0.986]\n"
     ]
    }
   ],
   "source": [
    "clf = MLPClassifier(activation='relu', alpha=1e-05, batch_size='auto',\n",
    "                    beta_1=0.9, beta_2=0.999, early_stopping=False,\n",
    "                    epsilon=1e-08, hidden_layer_sizes=(6,100,100,), learning_rate='constant',\n",
    "                    learning_rate_init=0.001, max_iter=200, momentum=0.9,\n",
    "                    nesterovs_momentum=True, power_t=0.5, random_state=1, shuffle=True,\n",
    "                    solver='lbfgs', tol=0.0001, validation_fraction=0.4, verbose=False,\n",
    "                    warm_start=False)\n",
    "\n",
    "clf.fit(Xtrain, ytrain)\n",
    "ytrain_pred = clf.predict(Xtrain)\n",
    "ytest_pred = clf.predict(Xtest)\n",
    "\n",
    "train_acc = get_accuracy(ytrain, ytrain_pred)\n",
    "test_acc = get_accuracy(ytest, ytest_pred)\n",
    "\n",
    "np.set_printoptions(precision=12)\n",
    "print(np.array([train_acc]))\n",
    "print(np.array([test_acc]))"
   ]
  },
  {
   "cell_type": "code",
   "execution_count": 4,
   "metadata": {},
   "outputs": [
    {
     "name": "stdout",
     "output_type": "stream",
     "text": [
      "[--- Training Dataset ------------]\n",
      "      Number of samples:   3000\n",
      "     Number of features:    336\n",
      "   Number of secure OCs:   2867 |   2871 predicted\n",
      " Number of insecure OCs:    133 |    129 predicted\n",
      "      Training accuracy:   0.99400000\n",
      "[--- Testing Dataset -------------]\n",
      "      Number of samples:   1000\n",
      "     Number of features:    336\n",
      "   Number of secure OCs:    948 |    944 predicted\n",
      " Number of insecure OCs:     52 |     56 predicted\n",
      "       Testing accuracy:   0.98600000\n"
     ]
    }
   ],
   "source": [
    "print('[--- Training Dataset ------------]')\n",
    "print('      Number of samples: %6d' %np.size(Xtrain,0))\n",
    "print('     Number of features: %6d' %np.size(Xtrain,1))\n",
    "print('   Number of secure OCs: %6d | %6d predicted' %(sum(ytrain==1),sum(ytrain_pred==1)))\n",
    "print(' Number of insecure OCs: %6d | %6d predicted' %(sum(ytrain==0),sum(ytrain_pred==0)))\n",
    "print('      Training accuracy: %12.8f' %get_accuracy(ytrain, ytrain_pred))\n",
    "print('[--- Testing Dataset -------------]')\n",
    "print('      Number of samples: %6d' %np.size(Xtest,0))\n",
    "print('     Number of features: %6d' %np.size(Xtest,1))\n",
    "print('   Number of secure OCs: %6d | %6d predicted' %(sum(ytest==1),sum(ytest_pred==1)))\n",
    "print(' Number of insecure OCs: %6d | %6d predicted' %(sum(ytest==0),sum(ytest_pred==0)))\n",
    "print('       Testing accuracy: %12.8f' %get_accuracy(ytest, ytest_pred))"
   ]
  },
  {
   "cell_type": "code",
   "execution_count": 6,
   "metadata": {},
   "outputs": [
    {
     "name": "stdout",
     "output_type": "stream",
     "text": [
      "[0.987006496752 0.953976988494]\n",
      "      Mean of CV scores:   0.97049174\n",
      "   Precision TP/(TP+TF):   0.99616858\n"
     ]
    }
   ],
   "source": [
    "from sklearn.model_selection import cross_val_score\n",
    "xvalid_scores = cross_val_score(clf, X, y, cv=2)\n",
    "print(xvalid_scores)\n",
    "print('      Mean of CV scores: %12.8f' %np.mean(xvalid_scores))\n",
    "\n",
    "from sklearn.metrics import precision_score\n",
    "precision = precision_score(ytrain, ytrain_pred)\n",
    "print('   Precision TP/(TP+TF): %12.8f' %precision)"
   ]
  },
  {
   "cell_type": "code",
   "execution_count": null,
   "metadata": {},
   "outputs": [],
   "source": []
  },
  {
   "cell_type": "code",
   "execution_count": 9,
   "metadata": {},
   "outputs": [
    {
     "name": "stdout",
     "output_type": "stream",
     "text": [
      "   num_of_layers =  4      0.92166667 |   0.91500000\n",
      "   num_of_layers =  5      0.94200000 |   0.92500000\n",
      "   num_of_layers =  6      0.95566667 |   0.94800000\n",
      "   num_of_layers =  7      0.95566667 |   0.94800000\n",
      "   num_of_layers =  8      0.95566667 |   0.94800000\n",
      "   num_of_layers =  9      1.00000000 |   0.98800000\n",
      "   num_of_layers = 10      1.00000000 |   0.98900000\n",
      "   num_of_layers = 11      1.00000000 |   0.99000000\n",
      "   num_of_layers = 12      1.00000000 |   0.99000000\n",
      "   num_of_layers = 13      1.00000000 |   0.98300000\n",
      "   num_of_layers = 14      0.99300000 |   0.98200000\n",
      "   num_of_layers = 15      0.99766667 |   0.98700000\n",
      "   num_of_layers = 16      1.00000000 |   0.98800000\n",
      "   num_of_layers = 17      1.00000000 |   0.98800000\n",
      "   num_of_layers = 18      0.99666667 |   0.98800000\n",
      "   num_of_layers = 19      1.00000000 |   0.98900000\n",
      "   num_of_layers = 20      0.99633333 |   0.98800000\n",
      "   num_of_layers = 21      1.00000000 |   0.98600000\n",
      "   num_of_layers = 22      0.99966667 |   0.98700000\n",
      "   num_of_layers = 23      0.99233333 |   0.98400000\n"
     ]
    }
   ],
   "source": [
    "nx = 20\n",
    "tx = np.asarray(range(nx)) + 1\n",
    "train_accx = np.zeros((1,nx))\n",
    "test_accx = np.zeros((1,nx))\n",
    "num_of_neurons = 50\n",
    "\n",
    "print('| #layers | #neurons | TrainAcc     | TestAcc      |')\n",
    "\n",
    "for ii in range(nx):\n",
    "    num_of_layers = ii\n",
    "    custom_layers = tuple([num_of_neurons]*(num_of_layers+2))\n",
    "    clf = MLPClassifier(activation='relu', alpha=1e-05, batch_size='auto',\n",
    "           beta_1=0.9, beta_2=0.999, early_stopping=False,\n",
    "           epsilon=1e-08, hidden_layer_sizes=custom_layers, learning_rate='constant',\n",
    "           learning_rate_init=0.001, max_iter=200, momentum=0.9,\n",
    "           nesterovs_momentum=True, power_t=0.5, random_state=1, shuffle=True,\n",
    "           solver='lbfgs', tol=0.0001, validation_fraction=0.1, verbose=False,\n",
    "           warm_start=False)\n",
    "\n",
    "    clf.fit(Xtrain, ytrain)\n",
    "    ytrain_pred = clf.predict(Xtrain)\n",
    "    ytest_pred = clf.predict(Xtest)\n",
    "    train_accx[0,ii] = get_accuracy(ytrain, ytrain_pred)\n",
    "    test_accx[0,ii] = get_accuracy(ytest, ytest_pred)\n",
    "    \n",
    "    print('|     %3d |      %3d | %12.8f | %12.8f |' %(clf.n_layers_, np.size(clf.intercepts_[0]), \\\n",
    "                                          train_accx[0,ii], test_accx[0,ii]))\n"
   ]
  },
  {
   "cell_type": "code",
   "execution_count": 10,
   "metadata": {},
   "outputs": [
    {
     "data": {
      "text/plain": [
       "<matplotlib.legend.Legend at 0x243a26b0>"
      ]
     },
     "execution_count": 10,
     "metadata": {},
     "output_type": "execute_result"
    },
    {
     "data": {
      "image/png": "[encoded data removed]",
      "text/plain": [
       "<Figure size 432x288 with 1 Axes>"
      ]
     },
     "metadata": {},
     "output_type": "display_data"
    }
   ],
   "source": [
    "plt.figure()\n",
    "plt.grid(True)\n",
    "plt.plot(tx,train_accx[0,:])\n",
    "plt.plot(tx,test_accx[0,:])\n",
    "plt.title('Accuracy')\n",
    "plt.legend(['train', 'test'])\n",
    "\n",
    "plt.figure()\n",
    "plt.grid(True)\n",
    "plt.plot(tx,1-train_accx[0,:])\n",
    "plt.plot(tx,1-test_accx[0,:])\n",
    "plt.title('Error')\n",
    "plt.legend(['train', 'test'])"
   ]
  },
  {
   "cell_type": "code",
   "execution_count": null,
   "metadata": {},
   "outputs": [],
   "source": []
  },
  {
   "cell_type": "code",
   "execution_count": null,
   "metadata": {},
   "outputs": [],
   "source": []
  },
  {
   "cell_type": "code",
   "execution_count": null,
   "metadata": {},
   "outputs": [],
   "source": []
  },
  {
   "cell_type": "code",
   "execution_count": null,
   "metadata": {},
   "outputs": [],
   "source": []
  }
 ],
 "metadata": {
  "kernelspec": {
   "display_name": "Python 2",
   "language": "python",
   "name": "python2"
  },
  "language_info": {
   "codemirror_mode": {
    "name": "ipython",
    "version": 2
   },
   "file_extension": ".py",
   "mimetype": "text/x-python",
   "name": "python",
   "nbconvert_exporter": "python",
   "pygments_lexer": "ipython2",
   "version": "2.7.15"
  }
 },
 "nbformat": 4,
 "nbformat_minor": 2
}
