{
 "cells": [
  {
   "cell_type": "code",
   "execution_count": 47,
   "metadata": {},
   "outputs": [],
   "source": [
    "import csv\n",
    "import numpy as np\n",
    "import sklearn as sk\n",
    "from sklearn.neural_network import MLPClassifier\n",
    "from sklearn.svm import SVC\n",
    "from sklearn import tree\n",
    "import os\n",
    "import sys\n",
    "import graphviz\n",
    "\n",
    "sys.path.append('C:\\\\Program Files (x86)\\\\Graphviz2.38\\\\bin')\n",
    "os.environ['PATH'] += ';' + 'C:\\\\Program Files (x86)\\\\Graphviz2.38\\\\bin'\n",
    "\n",
    "X = []\n",
    "y = []\n",
    "\n",
    "with open('snapshots_Xy_180709_124937.csv', 'rb') as f:\n",
    "    rdr = csv.reader(f, delimiter=',')\n",
    "    next(rdr)\n",
    "    # dat = [r for r in rdr]\n",
    "    for row in rdr:\n",
    "        X.append([float(x) for x in row[2:-1]])\n",
    "        y.append(int(row[1]))\n",
    "    X = np.asarray(X)\n",
    "    y = np.asarray(y)"
   ]
  },
  {
   "cell_type": "code",
   "execution_count": 44,
   "metadata": {},
   "outputs": [
    {
     "name": "stdout",
     "output_type": "stream",
     "text": [
      "[False False False False False False False False False False False False\n",
      " False False False False False False False False False False False False\n",
      " False False False False False False False False False False False False\n",
      " False False False False False False False False False False False False\n",
      " False False False False False False False False False False False False\n",
      " False False False False False False False False False  True  True  True\n",
      "  True  True  True  True  True  True  True  True  True  True  True  True\n",
      " False  True  True  True  True  True  True  True  True  True  True  True\n",
      "  True  True  True  True  True  True  True  True  True  True  True  True\n",
      "  True  True  True  True  True  True  True  True  True  True  True  True\n",
      "  True  True  True  True  True  True  True  True  True  True  True  True\n",
      "  True  True  True  True  True False  True  True  True  True  True  True\n",
      "  True  True  True  True  True  True  True  True  True  True  True  True\n",
      "  True  True  True  True  True  True  True  True  True  True  True  True\n",
      "  True  True  True  True  True False  True  True  True  True  True False\n",
      "  True  True  True  True  True False False  True  True  True  True False\n",
      "  True  True  True False  True False False  True  True False  True  True\n",
      "  True  True  True  True  True False  True  True  True  True  True  True\n",
      "  True  True  True  True  True  True  True  True  True  True  True  True\n",
      "  True  True  True  True  True  True  True  True  True  True  True  True\n",
      "  True  True  True  True  True  True  True  True  True  True  True  True\n",
      "  True  True  True  True  True  True  True  True  True  True  True  True\n",
      "  True  True  True  True  True  True  True  True  True  True  True  True\n",
      "  True  True  True  True  True  True  True  True  True  True  True  True\n",
      "  True  True  True  True  True  True  True  True  True  True  True  True\n",
      "  True  True  True  True  True  True  True  True  True  True  True  True\n",
      "  True  True  True  True  True  True  True  True  True  True  True  True\n",
      "  True  True  True  True  True  True  True  True  True  True  True  True]\n"
     ]
    }
   ],
   "source": [
    "from sklearn.feature_selection import VarianceThreshold\n",
    "\n",
    "sel = VarianceThreshold(threshold=(.8 * (1 - .8)))\n",
    "Xp = sel.fit_transform(X)\n",
    "X = Xp\n",
    "print(sel.get_support())"
   ]
  },
  {
   "cell_type": "code",
   "execution_count": 48,
   "metadata": {},
   "outputs": [],
   "source": [
    "num_of_tests = 10\n",
    "acc_rate = np.zeros(num_of_tests)\n",
    "for d in range(num_of_tests):\n",
    "    clf = tree.DecisionTreeClassifier(max_depth=d+2)\n",
    "    clf.fit(X, y)\n",
    "    \n",
    "    dot_data = tree.export_graphviz(clf, out_file=None, \n",
    "                                    class_names= ['INSECURE','SECURE'], \n",
    "                                    filled=True)  \n",
    "    graph = graphviz.Source(dot_data) \n",
    "    graph.render('test_dt_maxdepth_%d' %(d+2))\n",
    "\n",
    "    y_pred = clf.predict(X)\n",
    "    acc = [e == y_pred[i] for i, e in enumerate(y)]\n",
    "    acc_rate[d] = float(sum(acc)) / len(acc)"
   ]
  },
  {
   "cell_type": "code",
   "execution_count": 24,
   "metadata": {},
   "outputs": [
    {
     "name": "stdout",
     "output_type": "stream",
     "text": [
      "     Number of features:    255\n",
      "   Number of secure OCs:   4000\n",
      "      Number of samples:   4000\n",
      "      Training accuracy:      1.00000\n"
     ]
    }
   ],
   "source": [
    "print('     Number of features: %6d' %np.size(X,1))\n",
    "print('   Number of secure OCs: %6d' %sum(acc))\n",
    "print('      Number of samples: %6d' %len(acc))\n",
    "print('      Training accuracy: %12.5f' %acc_rate[d])"
   ]
  },
  {
   "cell_type": "code",
   "execution_count": 30,
   "metadata": {},
   "outputs": [
    {
     "data": {
      "text/plain": [
       "'tt.pdf'"
      ]
     },
     "execution_count": 30,
     "metadata": {},
     "output_type": "execute_result"
    }
   ],
   "source": []
  },
  {
   "cell_type": "code",
   "execution_count": 25,
   "metadata": {},
   "outputs": [
    {
     "name": "stdout",
     "output_type": "stream",
     "text": [
      "[0.98375 0.9895  0.994   0.9985  0.99975 0.99975 1.      1.      1.\n",
      " 1.     ]\n"
     ]
    }
   ],
   "source": [
    "np.set_printoptions(precision=12)\n",
    "print(acc_rate)"
   ]
  },
  {
   "cell_type": "code",
   "execution_count": 26,
   "metadata": {},
   "outputs": [
    {
     "name": "stdout",
     "output_type": "stream",
     "text": [
      "['', 'C:\\\\WINDOWS\\\\SYSTEM32\\\\python27.zip', 'c:\\\\python27\\\\DLLs', 'c:\\\\python27\\\\lib', 'c:\\\\python27\\\\lib\\\\plat-win', 'c:\\\\python27\\\\lib\\\\lib-tk', 'c:\\\\python27', 'c:\\\\python27\\\\lib\\\\site-packages', 'c:\\\\python27\\\\lib\\\\site-packages\\\\IPython\\\\extensions', 'C:\\\\Users\\\\nie\\\\.ipython']\n"
     ]
    }
   ],
   "source": [
    "import os\n",
    "import sys\n",
    "\n",
    "print(sys.path)"
   ]
  },
  {
   "cell_type": "code",
   "execution_count": 51,
   "metadata": {},
   "outputs": [
    {
     "name": "stdout",
     "output_type": "stream",
     "text": [
      "[1.049756288528 1.028804540634 1.050791025162 ... 1.043716430664\n",
      " 1.025539875031 1.039722084999]\n"
     ]
    }
   ],
   "source": [
    "print(X[:,50])"
   ]
  },
  {
   "cell_type": "code",
   "execution_count": 50,
   "metadata": {},
   "outputs": [
    {
     "data": {
      "text/plain": [
       "array([ 1.000000000000e+00,  1.044999957085e+00,  9.799999594688e-01,\n",
       "        9.830000400543e-01,  9.969999790192e-01,  1.011000037193e+00,\n",
       "        1.049999952316e+00,  1.062999963760e+00,  1.029999971390e+00,\n",
       "        1.025000095367e+00,  1.010000109673e+00,  1.000000000000e+00,\n",
       "        1.015599966049e+00,  1.011000037193e+00,  1.000000000000e+00,\n",
       "        1.000000000000e+00,  1.000000000000e+00,  9.522258639336e-01,\n",
       "        1.003530979156e+00,  9.302371740341e-01,  9.808009266853e-01,\n",
       "        9.567502737045e-01,  9.915747642517e-01,  9.937179684639e-01,\n",
       "        9.481135606766e-01,  9.976640939713e-01,  9.846426248550e-01,\n",
       "        9.635483026505e-01,  9.888566136360e-01,  9.913941621780e-01,\n",
       "        9.771450161934e-01,  9.823427796364e-01,  9.660404920578e-01,\n",
       "        9.655857086182e-01,  9.658990502357e-01,  1.025430202484e+00,\n",
       "        9.616466164589e-01,  9.499772191048e-01,  9.821884036064e-01,\n",
       "        9.854423999786e-01,  1.073618292809e+00,  1.000397682190e+00,\n",
       "        9.980644583702e-01,  9.724217057228e-01,  9.731445908546e-01,\n",
       "        1.029978036880e+00,  9.818796515465e-01,  1.032585620880e+00,\n",
       "        1.055121779442e+00,  9.900032877922e-01,  1.049756288528e+00,\n",
       "        1.043848514557e+00,  9.497143626213e-01,  9.886983036995e-01,\n",
       "        9.825225472450e-01,  9.538137316704e-01,  9.186125993729e-01,\n",
       "        9.081801772118e-01,  9.072198271751e-01,  9.020599126816e-01,\n",
       "        9.037609100342e-01,  9.565494060516e-01,  9.108523726463e-01,\n",
       "        9.081504344940e-01,  8.361280560493e-01,  9.113981127739e-01,\n",
       "        9.175179600716e-01,  9.256336092949e-01,  9.421836137772e-01,\n",
       "        2.884115791321e+01,  3.761099624634e+01,  4.055596160889e+01,\n",
       "        4.319741058350e+01,  4.145339202881e+01,  4.513897323608e+01,\n",
       "        4.742407608032e+01,  3.522383117676e+01,  4.153040695190e+01,\n",
       "        2.299898338318e+01,  2.537174606323e+01,  1.198460769653e+01,\n",
       "        7.128786563873e+00,  3.205037689209e+01,  1.448898983002e+01,\n",
       "        0.000000000000e+00, -2.262968271971e-01, -3.482752799988e+00,\n",
       "        3.725989913940e+01,  3.620705032349e+01,  3.406520080566e+01,\n",
       "        3.948347091675e+01,  3.921549224854e+01,  3.098834228516e+01,\n",
       "        2.806279182434e+01,  2.784496116638e+01,  2.625509071350e+01,\n",
       "        3.142040443420e+01,  3.432859039307e+01,  1.400743865967e+01,\n",
       "        1.516706848145e+01,  1.732663726807e+01,  1.235676956177e+01,\n",
       "        5.659345626831e+00,  2.842613220215e+00,  5.795077323914e+00,\n",
       "        2.809145736694e+01,  1.200598716736e+01, -9.451364517212e+00,\n",
       "        1.579623317719e+01,  3.051671028137e+01,  1.362785434723e+01,\n",
       "       -5.700784206390e+00, -5.918426036835e+00, -3.766917943954e+00,\n",
       "        5.753114700317e+00,  1.302014350891e+01,  1.312257099152e+01,\n",
       "        1.745258569717e+00, -5.395246505737e+00, -5.552120685577e+00,\n",
       "        2.666016387939e+01,  1.480179691315e+01,  2.625202560425e+01,\n",
       "        2.565683364868e+01,  2.697572135925e+01,  2.734319305420e+01,\n",
       "        2.817321205139e+01,  2.505081748962e+01,  2.409513282776e+01,\n",
       "        1.139030742645e+01,  3.161857032776e+01,  3.044541168213e+01,\n",
       "        3.055456542969e+01,  3.085587501526e+01,  2.912783622742e+01,\n",
       "        2.911218833923e+01,  3.063692283630e+01,  0.000000000000e+00,\n",
       "        5.390144531250e+03,  2.478239746094e+03,  6.185330200195e+02,\n",
       "        2.449092864990e+02,  2.111167602539e+02,  2.922147521973e+02,\n",
       "        2.174334259033e+02,  1.267677764893e+02,  2.946561889648e+02,\n",
       "        1.991380004883e+02,  2.891770019531e+02,  1.062644805908e+02,\n",
       "        9.214125061035e+01,  2.636132812500e+02,  6.675397491455e+01,\n",
       "        9.786282348633e+02,  9.835352172852e+02,  2.285469970703e+02,\n",
       "        2.032772827148e+02,  1.206211242676e+02,  1.817311248779e+02,\n",
       "        2.148945770264e+02,  1.659565124512e+02,  1.000541000366e+02,\n",
       "        3.278014526367e+02,  1.566687164307e+02,  2.037668914795e+02,\n",
       "        2.800934448242e+02,  1.954555206299e+02,  1.941798095703e+02,\n",
       "        1.880364074707e+02,  8.847483825684e+01,  8.673135757446e+00,\n",
       "        2.579864501953e+02,  3.094840393066e+02,  0.000000000000e+00,\n",
       "        2.695072326660e+02,  1.234103240967e+02,  9.368956756592e+01,\n",
       "        1.027904052734e+02,  7.235856628418e+01,  0.000000000000e+00,\n",
       "        4.562219238281e+01,  1.550397300720e+01,  7.969348907471e+01,\n",
       "        2.706730079651e+01,  2.749217987061e+01,  0.000000000000e+00,\n",
       "        0.000000000000e+00,  1.244017791748e+01,  2.393297576904e+01,\n",
       "        2.446570587158e+02,  2.138119964600e+02,  4.134432792664e+00,\n",
       "        2.052318763733e+01,  2.281155967712e+01,  2.915822029114e+01,\n",
       "        1.960067033768e+00,  2.934597206116e+01,  0.000000000000e+00,\n",
       "        0.000000000000e+00,  2.974722671509e+01,  9.560190582275e+01,\n",
       "        1.739711165428e+00,  7.192762756348e+01,  6.970558166504e+01,\n",
       "        6.375947570801e+01,  1.063399581909e+02,  8.480399322510e+01,\n",
       "        1.233497772217e+02,  3.010179138184e+01,  5.600000610352e+02,\n",
       "       -2.118124511719e+03,  3.189805297852e+02, -4.834571228027e+02,\n",
       "       -7.796046447754e+01,  1.152476348877e+02,  5.127241821289e+02,\n",
       "       -6.496099853516e+02,  4.047004699707e+02,  4.644776535034e+01,\n",
       "        3.935274353027e+02,  9.747137451172e+01,  1.539825916290e+01,\n",
       "        3.054200439453e+02,  1.910287780762e+02, -1.274851226807e+02,\n",
       "       -1.749690856934e+02, -1.627488861084e+02,  5.836702728271e+01,\n",
       "        3.288869934082e+02, -1.051904830933e+02, -1.848890380859e+02,\n",
       "       -1.950741119385e+02,  4.851535644531e+02,  3.607417297363e+02,\n",
       "        3.391189193726e+01,  8.141645507812e+02,  6.921247558594e+02,\n",
       "        1.008655452728e+01, -8.099628448486e+00,  6.941010131836e+02,\n",
       "       -8.932815551758e+02,  2.733838195801e+02, -4.366186523438e+02,\n",
       "        3.692847595215e+02, -1.437821502686e+02, -1.198257446289e+02,\n",
       "       -3.136209106445e+02,  2.468658142090e+02,  4.863312377930e+02,\n",
       "        3.183976745605e+02, -5.404478836060e+01,  3.135364379883e+02,\n",
       "        2.455566711426e+02, -3.046844100952e+01, -1.512619323730e+02,\n",
       "        1.469484996796e+01,  1.161332931519e+02, -4.605924072266e+02,\n",
       "        7.998775482178e+01, -8.467841339111e+01, -3.696938705444e+01,\n",
       "       -2.436505279541e+02, -4.535324707031e+02,  4.164935913086e+02,\n",
       "        4.866282958984e+02, -3.956726989746e+02,  2.907145385742e+02,\n",
       "        5.170552978516e+02,  3.961305847168e+02,  2.538697509766e+02,\n",
       "        2.431536407471e+02, -1.765295267105e+00, -2.597769165039e+02,\n",
       "        3.002537231445e+02,  1.337584686279e+02, -6.015365219116e+01,\n",
       "        1.963968396187e+00, -3.769735336304e+01, -2.675639343262e+02,\n",
       "       -8.221833801270e+01, -1.823300018311e+02,  7.953931427002e+01,\n",
       "       -3.400252914429e+01,  1.146230926514e+02,  8.756505584717e+01,\n",
       "        1.229035472870e+01, -7.451831054688e+01,  1.139718322754e+02,\n",
       "       -3.101130485535e+01, -3.457174301147e+01,  7.560422515869e+01,\n",
       "       -2.651406288147e+01, -1.770709419250e+01, -3.469395446777e+01,\n",
       "        3.528448867798e+01, -1.531297302246e+02,  1.525380401611e+02,\n",
       "       -2.789328765869e+01, -5.357266235352e+01, -3.376866531372e+01,\n",
       "       -1.929826354980e+01, -6.919058227539e+01, -2.820442962646e+01,\n",
       "       -8.737960815430e+01,  1.635631713867e+02, -2.281179428101e+01,\n",
       "        1.213960494995e+02, -2.807802200317e+01,  3.392048645020e+01,\n",
       "       -4.636010360718e+01, -2.358911705017e+01, -3.426061868668e-01,\n",
       "       -6.934867858887e+01, -9.222705841064e+01, -7.294451904297e+01,\n",
       "       -1.812247467041e+02, -4.958151626587e+01, -2.134546508789e+02,\n",
       "        1.842965850830e+02, -6.177915954590e+01, -4.747516632080e+01,\n",
       "        6.697032165527e+01,  1.678355407715e+02,  1.538176727295e+02,\n",
       "        7.165239715576e+01,  2.168255805969e+01,  6.996652221680e+01,\n",
       "        1.177054882050e+01,  2.770068740845e+01,  2.566467285156e+01,\n",
       "       -5.934405899048e+01, -1.214148559570e+02,  2.139217185974e+01,\n",
       "       -3.648960113525e+01, -8.028215026855e+01, -4.957352447510e+01])"
      ]
     },
     "execution_count": 50,
     "metadata": {},
     "output_type": "execute_result"
    }
   ],
   "source": [
    "X[0]"
   ]
  },
  {
   "cell_type": "code",
   "execution_count": null,
   "metadata": {},
   "outputs": [],
   "source": []
  }
 ],
 "metadata": {
  "kernelspec": {
   "display_name": "Python 2",
   "language": "python",
   "name": "python2"
  },
  "language_info": {
   "codemirror_mode": {
    "name": "ipython",
    "version": 2
   },
   "file_extension": ".py",
   "mimetype": "text/x-python",
   "name": "python",
   "nbconvert_exporter": "python",
   "pygments_lexer": "ipython2",
   "version": "2.7.15"
  }
 },
 "nbformat": 4,
 "nbformat_minor": 2
}
